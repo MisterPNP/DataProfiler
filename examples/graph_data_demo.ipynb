{
 "cells": [
  {
   "cell_type": "markdown",
   "id": "228bb2a6",
   "metadata": {},
   "source": [
    "# GraphData and GraphProfiler pipeline demo"
   ]
  },
  {
   "cell_type": "markdown",
   "id": "cab7a569",
   "metadata": {},
   "source": [
    "We have added the ability to load and profile graph datasets to the DataProfiler. Similarly to the rest of DataProfiler profilers, this is split into two components:\n",
    "- GraphData\n",
    "- GraphProfiler\n",
    "\n",
    "We will demo the use of this graph pipeline.\n",
    "\n",
    "First, let's import the libraries needed for this example."
   ]
  },
  {
   "cell_type": "code",
   "execution_count": 17,
   "metadata": {},
   "outputs": [],
   "source": [
    "import os\n",
    "import sys\n",
    "import pandas as pd\n",
    "import pprint\n",
    "sys.path.insert(0, '..')\n",
    "\n",
    "import dataprofiler as dp\n",
    "data_path = \"../dataprofiler/tests/data\""
   ]
  },
  {
   "cell_type": "markdown",
   "metadata": {},
   "source": [
    "We now input our dataset into the generic DataProfiler pipeline:"
   ]
  },
  {
   "cell_type": "code",
   "execution_count": 22,
   "metadata": {},
   "outputs": [
    {
     "name": "stdout",
     "output_type": "stream",
     "text": [
      "{'avg_node_degree': 1.4316546762589928,\n",
      "'categorical_attributes': ['categorical_status', 'node_id_dst', 'node_id_src'],\n",
      "'categorical_distribution': {'categorical_status': {'bin_counts': [44, 61, 33, 11,\n",
      "                                                                12, 7, 5, 8, 3,\n",
      "                                                                2, 0, 1, 0, 2,\n",
      "                                                                2, 1, 3, 1, 0,\n",
      "                                                                0, 0, 0, 1, 0,\n",
      "                                                                0, 1, 1],\n",
      "                                                  'bin_edges': [0.0,\n",
      "                                                               4.888888888888889,\n",
      "                                                               9.777777777777779,\n",
      "                                                               14.666666666666668,\n",
      "                                                               19.555555555555557,\n",
      "                                                               24.444444444444446,\n",
      "                                                               29.333333333333336,\n",
      "                                                               34.22222222222223,\n",
      "                                                               39.111111111111114,\n",
      "                                                               44.0,\n",
      "                                                               48.88888888888889,\n",
      "                                                               53.777777777777786,\n",
      "                                                               58.66666666666667,\n",
      "                                                               63.55555555555556,\n",
      "                                                               68.44444444444446,\n",
      "                                                               73.33333333333334,\n",
      "                                                               78.22222222222223,\n",
      "                                                               83.11111111111111,\n",
      "                                                               88.0,\n",
      "                                                               92.8888888888889,\n",
      "                                                               97.77777777777779,\n",
      "                                                               102.66666666666667,\n",
      "                                                               107.55555555555557,\n",
      "                                                               112.44444444444446,\n",
      "                                                               117.33333333333334,\n",
      "                                                               122.22222222222223,\n",
      "                                                               127.11111111111111,\n",
      "                                                               132.0]},\n",
      "                            'continuous_weight': None,\n",
      "                            'node_id_dst': {'bin_counts': [26, 26, 20, 24, 16, 19,\n",
      "                                                         21, 16, 31],\n",
      "                                           'bin_edges': [0.0, 55.333333333333336,\n",
      "                                                        110.66666666666667,\n",
      "                                                        166.0,\n",
      "                                                        221.33333333333334,\n",
      "                                                        276.6666666666667,\n",
      "                                                        332.0,\n",
      "                                                        387.33333333333337,\n",
      "                                                        442.6666666666667,\n",
      "                                                        498.0]},\n",
      "                            'node_id_src': {'bin_counts': [31, 21, 19, 18, 29, 19,\n",
      "                                                         23, 17, 22],\n",
      "                                           'bin_edges': [1.0, 56.333333333333336,\n",
      "                                                        111.66666666666667,\n",
      "                                                        167.0,\n",
      "                                                        222.33333333333334,\n",
      "                                                        277.6666666666667,\n",
      "                                                        333.0,\n",
      "                                                        388.33333333333337,\n",
      "                                                        443.6666666666667,\n",
      "                                                        499.0]}},\n",
      "'continuous_attributes': ['continuous_weight'],\n",
      "'continuous_distribution': {'categorical_status': None,\n",
      "                           'continuous_weight': {'name': 'gamma',\n",
      "                                                'properties': [520400.63250485307,\n",
      "                                                              -670.0469933809193,\n",
      "                                                              0.0012974550576001786,\n",
      "                                                              array([5.20400633e+05,            nan, 1.29745506e-03]),\n",
      "                                                              array([5.20400633e+05,            nan, 1.29745506e-03]),\n",
      "                                                              array([2.77243318e-03,            nan, 5.55243949e+01]),\n",
      "                                                              array([1.15295786e-05,            nan, 4.62443764e+03])],\n",
      "                                                'scale': 269.20076739533147},\n",
      "                           'node_id_dst': None,\n",
      "                           'node_id_src': None},\n",
      "'global_max_component_size': 21,\n",
      "'num_edges': 199,\n",
      "'num_nodes': 278,\n",
      "'times': defaultdict(<class 'float'>,\n",
      "                     {'avg_node_degree': 0.0003178119659423828,\n",
      "                     'categorical_attributes': 0.0013871192932128906,\n",
      "                     'categorical_distribution': 0.002457857131958008,\n",
      "                     'continuous_attributes': 0.0011820793151855469,\n",
      "                     'continuous_distribution': 0.1254570484161377,\n",
      "                     'global_max_component_size': 0.0005218982696533203,\n",
      "                     'num_edges': 7.414817810058594e-05,\n",
      "                     'num_nodes': 3.0994415283203125e-06})}\n"
     ]
    }
   ],
   "source": [
    "data = dp.Data(os.path.join(data_path, \"csv/graph_data_csv_identify.csv\"))\n",
    "profile = dp.Profiler(data)\n",
    "\n",
    "report = profile.report()\n",
    "\n",
    "pp = pprint.PrettyPrinter(sort_dicts=False, compact=True)\n",
    "pp.pprint(report)"
   ]
  }
 ],
 "metadata": {
  "kernelspec": {
   "display_name": "Python 3.8.13 ('DataProfiler')",
   "language": "python",
   "name": "python3"
  },
  "language_info": {
   "codemirror_mode": {
    "name": "ipython",
    "version": 3
   },
   "file_extension": ".py",
   "mimetype": "text/x-python",
   "name": "python",
   "nbconvert_exporter": "python",
   "pygments_lexer": "ipython3",
   "version": "3.8.13"
  },
  "orig_nbformat": 4,
  "vscode": {
   "interpreter": {
    "hash": "a2197c79d714b32f9f9ed41e6865be7abee781a88954d580d283659e068a32d9"
   }
  }
 },
 "nbformat": 4,
 "nbformat_minor": 2
}
