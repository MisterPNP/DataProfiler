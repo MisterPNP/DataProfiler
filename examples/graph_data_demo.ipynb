{
 "cells": [
  {
   "cell_type": "markdown",
   "id": "228bb2a6",
   "metadata": {},
   "source": [
    "# GraphData and GraphProfiler pipeline demo"
   ]
  },
  {
   "cell_type": "markdown",
   "id": "cab7a569",
   "metadata": {},
   "source": [
    "DataProfiler can also load and profile graph datasets. Similarly to the rest of DataProfiler profilers, this is split into two components:\n",
    "- GraphData\n",
    "- GraphProfiler\n",
    "\n",
    "We will demo the use of this graph pipeline.\n",
    "\n",
    "First, let's import the libraries needed for this example."
   ]
  },
  {
   "cell_type": "code",
   "execution_count": 17,
   "metadata": {},
   "outputs": [],
   "source": [
    "import os\n",
    "import sys\n",
    "import pandas as pd\n",
    "import pprint\n",
    "sys.path.insert(0, '..')\n",
    "\n",
    "import dataprofiler as dp\n",
    "data_path = \"../dataprofiler/tests/data\""
   ]
  },
  {
   "cell_type": "markdown",
   "metadata": {},
   "source": [
    "We now input our dataset into the generic DataProfiler pipeline:"
   ]
  },
  {
   "cell_type": "code",
   "execution_count": 23,
   "metadata": {},
   "outputs": [
    {
     "name": "stdout",
     "output_type": "stream",
     "text": [
      "{'num_nodes': 278,\n",
      " 'num_edges': 199,\n",
      " 'categorical_attributes': ['categorical_status', 'node_id_dst', 'node_id_src'],\n",
      " 'continuous_attributes': ['continuous_weight'],\n",
      " 'avg_node_degree': 1.4316546762589928,\n",
      " 'global_max_component_size': 21,\n",
      " 'continuous_distribution': {'categorical_status': None,\n",
      "                             'node_id_dst': None,\n",
      "                             'continuous_weight': {'name': 'gamma',\n",
      "                                                   'scale': 269.20076739533147,\n",
      "                                                   'properties': [520400.63250485307,\n",
      "                                                                  -670.0469933809193,\n",
      "                                                                  0.0012974550576001786,\n",
      "                                                                  array([5.20400633e+05,            nan, 1.29745506e-03]),\n",
      "                                                                  array([5.20400633e+05,            nan, 1.29745506e-03]),\n",
      "                                                                  array([2.77243318e-03,            nan, 5.55243949e+01]),\n",
      "                                                                  array([1.15295786e-05,            nan, 4.62443764e+03])]},\n",
      "                             'node_id_src': None},\n",
      " 'categorical_distribution': {'categorical_status': {'bin_counts': [44, 61, 33,\n",
      "                                                                    11, 12, 7,\n",
      "                                                                    5, 8, 3, 2,\n",
      "                                                                    0, 1, 0, 2,\n",
      "                                                                    2, 1, 3, 1,\n",
      "                                                                    0, 0, 0, 0,\n",
      "                                                                    1, 0, 0, 1,\n",
      "                                                                    1],\n",
      "                                                     'bin_edges': [0.0,\n",
      "                                                                   4.888888888888889,\n",
      "                                                                   9.777777777777779,\n",
      "                                                                   14.666666666666668,\n",
      "                                                                   19.555555555555557,\n",
      "                                                                   24.444444444444446,\n",
      "                                                                   29.333333333333336,\n",
      "                                                                   34.22222222222223,\n",
      "                                                                   39.111111111111114,\n",
      "                                                                   44.0,\n",
      "                                                                   48.88888888888889,\n",
      "                                                                   53.777777777777786,\n",
      "                                                                   58.66666666666667,\n",
      "                                                                   63.55555555555556,\n",
      "                                                                   68.44444444444446,\n",
      "                                                                   73.33333333333334,\n",
      "                                                                   78.22222222222223,\n",
      "                                                                   83.11111111111111,\n",
      "                                                                   88.0,\n",
      "                                                                   92.8888888888889,\n",
      "                                                                   97.77777777777779,\n",
      "                                                                   102.66666666666667,\n",
      "                                                                   107.55555555555557,\n",
      "                                                                   112.44444444444446,\n",
      "                                                                   117.33333333333334,\n",
      "                                                                   122.22222222222223,\n",
      "                                                                   127.11111111111111,\n",
      "                                                                   132.0]},\n",
      "                              'node_id_dst': {'bin_counts': [26, 26, 20, 24, 16,\n",
      "                                                             19, 21, 16, 31],\n",
      "                                              'bin_edges': [0.0,\n",
      "                                                            55.333333333333336,\n",
      "                                                            110.66666666666667,\n",
      "                                                            166.0,\n",
      "                                                            221.33333333333334,\n",
      "                                                            276.6666666666667,\n",
      "                                                            332.0,\n",
      "                                                            387.33333333333337,\n",
      "                                                            442.6666666666667,\n",
      "                                                            498.0]},\n",
      "                              'continuous_weight': None,\n",
      "                              'node_id_src': {'bin_counts': [31, 21, 19, 18, 29,\n",
      "                                                             19, 23, 17, 22],\n",
      "                                              'bin_edges': [1.0,\n",
      "                                                            56.333333333333336,\n",
      "                                                            111.66666666666667,\n",
      "                                                            167.0,\n",
      "                                                            222.33333333333334,\n",
      "                                                            277.6666666666667,\n",
      "                                                            333.0,\n",
      "                                                            388.33333333333337,\n",
      "                                                            443.6666666666667,\n",
      "                                                            499.0]}},\n",
      " 'times': defaultdict(<class 'float'>,\n",
      "                      {'num_nodes': 2.86102294921875e-06,\n",
      "                       'num_edges': 7.891654968261719e-05,\n",
      "                       'categorical_attributes': 0.0014190673828125,\n",
      "                       'continuous_attributes': 0.0013270378112792969,\n",
      "                       'avg_node_degree': 0.00034618377685546875,\n",
      "                       'global_max_component_size': 0.0006148815155029297,\n",
      "                       'continuous_distribution': 0.13712286949157715,\n",
      "                       'categorical_distribution': 0.0035240650177001953})}\n"
     ]
    }
   ],
   "source": [
    "data = dp.Data(os.path.join(data_path, \"csv/graph_data_csv_identify.csv\"))\n",
    "profile = dp.Profiler(data)\n",
    "\n",
    "report = profile.report()\n",
    "\n",
    "pp = pprint.PrettyPrinter(sort_dicts=False, compact=True)\n",
    "pp.pprint(report)"
   ]
  },
  {
   "cell_type": "markdown",
   "metadata": {},
   "source": [
    "We notice that the `Data` class automatically detected the input file as graph data. The `GraphData` class is able to differentiate between tabular and graph csv data. After `Data` matches the input file as graph data, `GraphData` does the necessary work to load the csv data into a NetworkX Graph. \n",
    "\n",
    "`Profiler` runs `GraphProfiler` when graph data is input (or when `data_type=\"graph\"` is specified). The `report()` function outputs the profile for the user."
   ]
  },
  {
   "cell_type": "markdown",
   "metadata": {},
   "source": [
    "# Conclusion"
   ]
  },
  {
   "cell_type": "markdown",
   "metadata": {},
   "source": [
    "We have shown the graph pipeline in the DataProfiler. It works similarly to the current DataProfiler implementation."
   ]
  }
 ],
 "metadata": {
  "kernelspec": {
   "display_name": "Python 3",
   "language": "python",
   "name": "python3"
  },
  "language_info": {
   "codemirror_mode": {
    "name": "ipython",
    "version": 3
   },
   "file_extension": ".py",
   "mimetype": "text/x-python",
   "name": "python",
   "nbconvert_exporter": "python",
   "pygments_lexer": "ipython3",
   "version": "3.8.13"
  },
  "orig_nbformat": 4
 },
 "nbformat": 4,
 "nbformat_minor": 2
}
