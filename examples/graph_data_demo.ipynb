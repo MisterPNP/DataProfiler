{
 "cells": [
  {
   "cell_type": "markdown",
   "id": "228bb2a6",
   "metadata": {},
   "source": [
    "# GraphData and GraphProfiler pipeline demo"
   ]
  },
  {
   "cell_type": "markdown",
   "id": "cab7a569",
   "metadata": {},
   "source": [
    "DataProfiler can also load and profile graph datasets. Similarly to the rest of DataProfiler profilers, this is split into two components:\n",
    "- GraphData\n",
    "- GraphProfiler\n",
    "\n",
    "We will demo the use of this graph pipeline.\n",
    "\n",
    "First, let's import the libraries needed for this example."
   ]
  },
  {
   "cell_type": "code",
   "execution_count": 17,
   "metadata": {},
   "outputs": [],
   "source": [
    "import os\n",
    "import sys\n",
    "import pandas as pd\n",
    "import pprint\n",
    "sys.path.insert(0, '..')\n",
    "\n",
    "import dataprofiler as dp\n",
    "data_path = \"../dataprofiler/tests/data\""
   ]
  },
  {
   "cell_type": "markdown",
   "metadata": {},
   "source": [
    "We now input our dataset into the generic DataProfiler pipeline:"
   ]
  },
  {
   "cell_type": "code",
   "execution_count": null,
   "metadata": {},
   "outputs": [],
   "source": [
    "data = dp.Data(os.path.join(data_path, \"csv/graph_data_csv_identify.csv\"))\n",
    "profile = dp.Profiler(data)\n",
    "\n",
    "report = profile.report()\n",
    "\n",
    "pp = pprint.PrettyPrinter(sort_dicts=False, compact=True)\n",
    "pp.pprint(report)"
   ]
  },
  {
   "cell_type": "markdown",
   "metadata": {},
   "source": [
    "We notice that the `Data` class automatically detected the input file as graph data. The `GraphData` class is able to differentiate between tabular and graph csv data. After `Data` matches the input file as graph data, `GraphData` does the necessary work to load the csv data into a NetworkX Graph. \n",
    "\n",
    "`Profiler` runs `GraphProfiler` when graph data is input (or when `data_type=\"graph\"` is specified). The `report()` function outputs the profile for the user."
   ]
  },
  {
   "cell_type": "markdown",
   "metadata": {},
   "source": [
    "# Conclusion"
   ]
  },
  {
   "cell_type": "markdown",
   "metadata": {},
   "source": [
    "We have shown the graph pipeline in the DataProfiler. It works similarly to the current DataProfiler implementation."
   ]
  }
 ],
 "metadata": {
  "kernelspec": {
   "display_name": "Python 3",
   "language": "python",
   "name": "python3"
  },
  "language_info": {
   "codemirror_mode": {
    "name": "ipython",
    "version": 3
   },
   "file_extension": ".py",
   "mimetype": "text/x-python",
   "name": "python",
   "nbconvert_exporter": "python",
   "pygments_lexer": "ipython3",
   "version": "3.8.13"
  },
  "orig_nbformat": 4
 },
 "nbformat": 4,
 "nbformat_minor": 2
}
